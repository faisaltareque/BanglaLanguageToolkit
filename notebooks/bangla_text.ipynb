{
 "cells": [
  {
   "cell_type": "code",
   "execution_count": 1,
   "metadata": {},
   "outputs": [],
   "source": [
    "from BanglaLanguageToolkit.bangla_text_cleaner import BanglaTextCleaner\n",
    "cleaner = BanglaTextCleaner(remove_emoji=True, remove_email=True, remove_url=True, remove_punct=True)\n"
   ]
  },
  {
   "cell_type": "code",
   "execution_count": 2,
   "metadata": {},
   "outputs": [
    {
     "name": "stdout",
     "output_type": "stream",
     "text": [
      "সে কিভাবে রিগামের সাথে সম্পর্কিত <PUNC> How is he related to Regum <PUNC> <PUNC> <URL> <PUNC> <EMAIL> <PUNC> আমি ভাত খাই <PUNC> I eat rice <PUNC> \n",
      "সে কিভাবে রিগামের সাথে সম্পর্কিত <PUNC> <FOREIGN> <FOREIGN> <FOREIGN> <FOREIGN> <FOREIGN> <FOREIGN> <PUNC> <PUNC> <URL> <PUNC> <EMAIL> <PUNC> আমি ভাত খাই <PUNC> <FOREIGN> <FOREIGN> <FOREIGN> <PUNC>\n"
     ]
    }
   ],
   "source": [
    "text = \"সে কিভাবে রিগামের সাথে সম্পর্কিত? How is he related to Regum?, www.google.com, faisl@gmail.com, আমি ভাত খাই। I eat rice.\"\n",
    "text = cleaner.clean(text)\n",
    "print(text)\n",
    "text = cleaner.replace_foreign_words(text, keep_special_tokens=True, replace_multiple_foreign_words=False)\n",
    "print(text)"
   ]
  }
 ],
 "metadata": {
  "kernelspec": {
   "display_name": "PythonEnv",
   "language": "python",
   "name": "pythonenv"
  },
  "language_info": {
   "codemirror_mode": {
    "name": "ipython",
    "version": 3
   },
   "file_extension": ".py",
   "mimetype": "text/x-python",
   "name": "python",
   "nbconvert_exporter": "python",
   "pygments_lexer": "ipython3",
   "version": "3.10.9"
  },
  "orig_nbformat": 4
 },
 "nbformat": 4,
 "nbformat_minor": 2
}
