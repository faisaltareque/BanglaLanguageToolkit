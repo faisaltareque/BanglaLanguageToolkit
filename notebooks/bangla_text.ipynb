{
 "cells": [
  {
   "cell_type": "code",
   "execution_count": 1,
   "metadata": {},
   "outputs": [],
   "source": [
    "from bltk.langtools.banglachars import (vowels,\n",
    "                                        vowel_signs,\n",
    "                                        consonants,\n",
    "                                        digits,\n",
    "                                        operators,\n",
    "                                        punctuations,\n",
    "                                        others)"
   ]
  },
  {
   "cell_type": "code",
   "execution_count": null,
   "metadata": {},
   "outputs": [],
   "source": [
    "\n",
    "BANGLA_DIGIT_REGEX = re.compile(r'[০-৯]+')\n",
    "# taken hostname, domainname, tld from URL regex below\n",
    "EMAIL_REGEX = re.compile(r\"(?:^|(?<=[^\\w@.)]))([\\w+-](\\.(?!\\.))?)*?[\\w+-](@|[(<{\\[]at[)>}\\]])(?:(?:[a-z\\\\u00a1-\\\\uffff0-9]-?)*[a-z\\\\u00a1-\\\\uffff0-9]+)(?:\\.(?:[a-z\\\\u00a1-\\\\uffff0-9]-?)*[a-z\\\\u00a1-\\\\uffff0-9]+)*(?:\\.(?:[a-z\\\\u00a1-\\\\uffff]{2,}))\", flags=re.IGNORECASE | re.UNICODE,)\n",
    "# source: https://gist.github.com/dperini/729294\n",
    "# @jfilter: I guess it was changed\n",
    "URL_REGEX = re.compile(\n",
    "    r\"(?:^|(?<![\\w\\/\\.]))\"    \n",
    "    r\"(?:(?:https?:\\/\\/|ftp:\\/\\/|www\\d{0,3}\\.))\" # protocol identifier r\"(?:(?:https?|ftp)://)\"  <-- alt?    \n",
    "    r\"(?:\\S+(?::\\S*)?@)?\" r\"(?:\" # user:pass authentication\n",
    "    r\"(?!(?:10|127)(?:\\.\\d{1,3}){3})\"     # IP address exclusion private & local networks\n",
    "    r\"(?!(?:169\\.254|192\\.168)(?:\\.\\d{1,3}){2})\"\n",
    "    r\"(?!172\\.(?:1[6-9]|2\\d|3[0-1])(?:\\.\\d{1,3}){2})\"\n",
    "    r\"(?:[1-9]\\d?|1\\d\\d|2[01]\\d|22[0-3])\" # IP address dotted notation octets, excludes loopback network 0.0.0.0, excludes reserved space >= 224.0.0.0 ,excludes network & broadcast addresses, (first & last IP address of each class)\n",
    "    r\"(?:\\.(?:1?\\d{1,2}|2[0-4]\\d|25[0-5])){2}\"\n",
    "    r\"(?:\\.(?:[1-9]\\d?|1\\d\\d|2[0-4]\\d|25[0-4]))\"\n",
    "    r\"|\"\n",
    "    r\"(?:(?:[a-z\\\\u00a1-\\\\uffff0-9]-?)*[a-z\\\\u00a1-\\\\uffff0-9]+)\" # host name\n",
    "    r\"(?:\\.(?:[a-z\\\\u00a1-\\\\uffff0-9]-?)*[a-z\\\\u00a1-\\\\uffff0-9]+)*\" # domain name\n",
    "    r\"(?:\\.(?:[a-z\\\\u00a1-\\\\uffff]{2,}))\" r\"|\" r\"(?:(localhost))\" r\")\"     # TLD identifier\n",
    "    r\"(?::\\d{2,5})?\" # port number    \n",
    "    r\"(?:\\/[^\\)\\]\\}\\s]*)?\", # resource path\n",
    "    flags=re.UNICODE | re.IGNORECASE,\n",
    "    # r\"(?:$|(?![\\w?!+&\\/\\)]))\",\n",
    "    # @jfilter: I removed the line above from the regex because I don't understand what it is used for, maybe it was useful?\n",
    "    # But I made sure that it does not include ), ] and } in the URL.\n",
    ")\n",
    "strange_double_quotes = [\"«\", \"‹\", \"»\", \"›\", \"„\", \"“\", \"‟\", \"”\", \"❝\", \"❞\", \"❮\", \"❯\", \"〝\", \"〞\", \"〟\", \"＂\",}\n",
    "strange_single_quotes = [\"‘\", \"‛\", \"’\", \"❛\", \"❜\", \"`\", \"´\", \"‘\", \"’\"]\n",
    "DOUBLE_QUOTE_REGEX = re.compile(\"|\".join(strange_double_quotes))\n",
    "SINGLE_QUOTE_REGEX = re.compile(\"|\".join(strange_single_quotes))"
   ]
  },
  {
   "cell_type": "code",
   "execution_count": null,
   "metadata": {},
   "outputs": [],
   "source": [
    "def fix_bad_unicode(text, normalization=\"NFC\"):\n",
    "    return fix_text(text, normalization=normalization)\n",
    "\n",
    "def fix_strange_quotes(text):\n",
    "    \"\"\"\n",
    "    Replace strange quotes, i.e., 〞with a single quote ' or a double quote \" if it fits better.\n",
    "    \"\"\"\n",
    "    text = constants.SINGLE_QUOTE_REGEX.sub(\"'\", text)\n",
    "    text = constants.DOUBLE_QUOTE_REGEX.sub('\"', text)\n",
    "    return text\n",
    "\n",
    "def replace_urls(text, replace_with=\"\"):\n",
    "    \"\"\"\n",
    "    Replace all URLs in ``text`` str with ``replace_with`` str.\n",
    "    \"\"\"\n",
    "    return constants.URL_REGEX.sub(replace_with, text)\n",
    "\n",
    "def replace_emails(text, replace_with=\"\"):\n",
    "    \"\"\"\n",
    "    Replace all emails in ``text`` str with ``replace_with`` str.\n",
    "    \"\"\"\n",
    "    return constants.EMAIL_REGEX.sub(replace_with, text)\n",
    "\n",
    "def remove_substrings(text, to_replace, replace_with=\"\"):\n",
    "    \"\"\"\n",
    "    Remove (or replace) substrings from a text.\n",
    "    Args:\n",
    "        text (str): raw text to preprocess\n",
    "        to_replace (iterable or str): substrings to remove/replace\n",
    "        replace_with (str): defaults to an empty string but\n",
    "            you replace substrings with a token.\n",
    "    \"\"\"\n",
    "    if isinstance(to_replace, str):\n",
    "        to_replace = [to_replace]\n",
    "\n",
    "    result = text\n",
    "    for x in to_replace:\n",
    "        result = result.replace(x, replace_with)\n",
    "    return result\n",
    "\n",
    "def remove_emoji(text):\n",
    "    return remove_substrings(text, UNICODE_EMOJI[\"en\"])\n",
    "\n",
    "def remove_number_or_digit(text, replace_with=\"\"):\n",
    "    return re.sub(constants.BANGLA_DIGIT_REGEX, replace_with, text)\n",
    "\n",
    "def remove_punctuations(text, replace_with=\"\"):\n",
    "    for punc in corpus.punctuations:\n",
    "        print(punc)\n",
    "        text = text.replace(punc, replace_with)\n",
    "    \n",
    "    return text\n",
    "\n",
    "class CleanText(object):\n",
    "    def __init__(\n",
    "        self,\n",
    "        fix_unicode=True,\n",
    "        unicode_norm=True,\n",
    "        unicode_norm_form=\"NFKC\",\n",
    "        remove_url=False,\n",
    "        remove_email=False,\n",
    "        remove_number=False,\n",
    "        remove_digits=False,\n",
    "        remove_emoji=False,\n",
    "        remove_punct=False,\n",
    "        replace_with_url=\"<URL>\",\n",
    "        replace_with_email=\"<EMAIL>\",\n",
    "        replace_with_number=\"<NUMBER>\",\n",
    "        replace_with_digit=\"<DIGIT>\",\n",
    "        replace_with_punct = \"<PUNC>\"\n",
    "        ):\n",
    "        self.fix_unicode = fix_unicode\n",
    "        self.unicode_norm = unicode_norm\n",
    "        self.unicode_norm_form = unicode_norm_form\n",
    "        self.remove_url = remove_url\n",
    "        self.remove_email = remove_email\n",
    "        self.remove_number = remove_number\n",
    "        self.remove_digits = remove_digits\n",
    "        self.remove_emoji = remove_emoji\n",
    "        self.remove_punct = remove_punct\n",
    "        \n",
    "        self.replace_with_url = replace_with_url\n",
    "        self.replace_with_email = replace_with_email\n",
    "        self.replace_with_number = replace_with_number\n",
    "        self.replace_with_digit = replace_with_digit\n",
    "        self.replace_with_punct = replace_with_punct\n",
    "\n",
    "    def __call__(self, text: str) -> str:\n",
    "        if text is None:\n",
    "            text = \"\"\n",
    "        text = str(text)\n",
    "        text = fix_strange_quotes(text)\n",
    "\n",
    "        if self.fix_unicode:\n",
    "            text = fix_bad_unicode(text)\n",
    "        if self.unicode_norm:\n",
    "            text = normalize(self.unicode_norm_form, text)\n",
    "        if self.remove_punct:\n",
    "            text = remove_punctuations(text, replace_with=self.replace_with_punct)\n",
    "        if self.remove_url:\n",
    "            text = replace_urls(text, replace_with=self.replace_with_url)\n",
    "        if self.remove_email:\n",
    "            text = replace_emails(text, replace_with=self.replace_with_email)\n",
    "        if self.remove_emoji:\n",
    "            text = remove_emoji(text)\n",
    "        if self.remove_digits:\n",
    "            text = remove_number_or_digit(text, replace_with=self.replace_with_digit)\n",
    "        if self.remove_number:\n",
    "            text = remove_number_or_digit(text, replace_with=self.replace_with_number)\n",
    "\n",
    "        return text"
   ]
  },
  {
   "cell_type": "code",
   "execution_count": 4,
   "metadata": {},
   "outputs": [],
   "source": [
    "class BanglaCharacter:\n",
    "    def __init__(self):\n",
    "        self.vowels = [\"অ\", \"আ\", \"ই\", \"ঈ\", \"উ\", \"ঊ\", \"ঋ\", \"ঌ\", \"এ\", \"ঐ\", \"ও\", \"ঔ\"]\n",
    "        self.vowels_unicode = [\"\\u0985\", \"\\u0986\", \"\\u0987\", \"\\u0988\", \"\\u0989\", \"\\u098A\", \"\\u098B\", \"\\u098C\", \"\\u098F\", \"\\u0990\", \"\\u0993\", \"\\u0994\"]\n",
    "        self.vowel_signs = [\"া\", \"ি\", \"ী\", \"ু\", \"ূ\", \"ৃ\", \"ৄ\", \"ে\", \"ৈ\", \"ো\", \"ৌ\"]\n",
    "        self.vowel_signs_unicode = [\"\\u09BE\", \"\\u09Bf\", \"\\u09C0\", \"\\u09C1\", \"\\u09C2\", \"\\u09C3\", \"\\u09C4\", \"\\u09C7\", \"\\u09C8\", \"\\u09CB\", \"\\u09CC\"]\n",
    "        self.digits = [\"০\", \"১\", \"২\", \"৩\", \"৪\", \"৫\", \"৬\", \"৭\", \"৮\", \"৯\"]\n",
    "        self.digit_unicode = [\"\\u09E6\", \"\\u09E7\", \"\\u09E8\", \"\\u09E9\", \"\\u09EA\", \"\\u09EB\", \"\\u09EC\", \"\\u09ED\", \"\\u09EE\", \"\\u09EF\"]\n",
    "        self.consonants = [\"ক\", \"খ\", \"গ\", \"ঘ\", \"ঙ\", \"চ\", \"ছ\", \"জ\", \"ঝ\", \"ঞ\", \n",
    "                           \"ট\", \"ঠ\", \"ড\", \"ঢ\", \"ণ\", \"ত\", \"থ\", \"দ\", \"ধ\", \"ন\", \n",
    "                           \"প\", \"ফ\", \"ব\", \"ভ\", \"ম\", \"য\", \"র\", \"ল\", \"শ\", \"ষ\", \n",
    "                           \"স\", \"হ\", \"ড়\", \"ঢ়\", \"য়\", \"ৎ\", \"ং\", \"ঃ\", \"ঁ\"]\n",
    "        self.consonant_unicode = [\"\\u0995\", \"\\u0996\", \"\\u0997\", \"\\u0998\", \"\\u0999\", \"\\u099A\", \"\\u099B\",\"\\u099C\",\n",
    "                            \"\\u099D\", \"\\u099E\", \"\\u099F\", \"\\u09A0\", \"\\u09A1\", \"\\u09A2\", \"\\u09A3\", \"\\u09A4\",\n",
    "                            \"\\u09A5\", \"\\u09A6\", \"\\u09A7\", \"\\u09A8\", \"\\u09AA\", \"\\u09AB\", \"\\u09AC\", \"\\u09AD\",\n",
    "                            \"\\u09AE\", \"\\u09AF\", \"\\u09B0\", \"\\u09B2\", \"\\u09B6\", \"\\u09B7\", \"\\u09B8\", \"\\u09B9\",\n",
    "                            \"\\u09DC\", \"\\u09DD\", \"\\u09DF\", \"\\u09CE\", \"\\u0982\", \"\\u0983\", \"\\u0981\"]\n",
    "        self.punctuations = [\"।\", \",\", \";\", \":\", \"?\", \"!\", \"'\", \".\", \"\\\"\", \"-\", \"[\", \"]\", \"{\", \"}\", \"(\", \")\", '–', \"—\", \"―\", \"~\"]\n",
    "        self.punctuation_unicode = [\"\\u0964\", \"\\u002C\", \"\\u003B\", \"\\u003A\", \"\\u003F\", \"\\u0021\",\n",
    "                            \"\\u0027\", \"\\u002E\", \"\\u0022\", \"\\u002D\", \"\\u005B\", \"\\u005D\",\n",
    "                            \"\\u007B\", \"\\u007D\", \"\\u0028\", \"\\u0029\", \"\\u2013\", \"\\u2014\",\n",
    "                            \"\\u2015\", \"\\u007E\"]\n",
    "        self.operators = [\"=\", \"+\", \"-\", \"*\", \"/\", \"%\", \"<\", \">\", \"×\", \"÷\"]\n",
    "        self.unicode_operators = [\"\\u003D\", \"\\u002B\", \"\\u002D\", \"\\u002A\", \"\\u002F\", \"\\u0025\", \"\\u003C\",\n",
    "                            \"\\u003E\", \"\\u00D7\", \"\\u00F7\"]\n",
    "        self.others = [\"৳\", \"৺\", '্', \"ঀ\", \"ঽ\", \"#\", \"$\"]\n",
    "        self.unicode_others = [\"\\u09F3\", \"\\u09FA\", \"\\u09CD\", \"\\u0980\", \"\\u09BD\", \"\\u0023\", \"\\u0024\"]\n",
    "\n",
    "    def is_valid_character(self, char: str) -> bool:\n",
    "        if len(char) > 1:\n",
    "            raise ValueError(\"Input character must be a single character\")\n",
    "        if char in self.vowels or char in self.vowel_signs or char in self.digits or char in self.consonants or char in self.punctuations or char in self.operators or char in self.others:\n",
    "            return True\n",
    "        return False\n",
    "        "
   ]
  },
  {
   "cell_type": "code",
   "execution_count": 5,
   "metadata": {},
   "outputs": [],
   "source": [
    "bc = BanglaCharacter()"
   ]
  },
  {
   "cell_type": "code",
   "execution_count": 10,
   "metadata": {},
   "outputs": [
    {
     "data": {
      "text/plain": [
       "True"
      ]
     },
     "execution_count": 10,
     "metadata": {},
     "output_type": "execute_result"
    }
   ],
   "source": [
    "bc.is_valid_character(\"ড\")"
   ]
  },
  {
   "cell_type": "code",
   "execution_count": 3,
   "metadata": {},
   "outputs": [],
   "source": [
    "import bangla_text_cleaner"
   ]
  },
  {
   "cell_type": "code",
   "execution_count": 1,
   "metadata": {},
   "outputs": [],
   "source": [
    "from bangla_text_cleaner.bangla_text_cleaner import BanglaTextCleaner\n",
    "\n",
    "cleaner = BanglaTextCleaner()\n",
    "cleaned_text = cleaner.clean(\"\"\"হবিগঞ্জের বাহুবল থানার সদ্য Bangla বিদায়ী ভারপ্রাপ্ত কর্মকর্তা (ওসি) রাকিবুল ইসলাম খানের বিরুদ্ধে থানা ও বাসভবনে সরকারি অর্থে স্থাপিত দুটি শীতাতপনিয়ন্ত্রণ যন্ত্র (এসি) খুলে নেওয়ার অভিযোগ পাওয়া গেছে।\n",
    "ওসির এ কর্মকাণ্ডে ক্ষোভ প্রকাশ করেছেন হবিগঞ্জ-১ (নবীগঞ্জ-বাহুবল) আসনের সংসদ সদস্য গাজী মোহাম্মদ শাহ নওয়াজ। তিনি প্রথম আলোকে বলেন, এসি দুটি সরকারি বরাদ্দ থেকে থানায় ওসির কক্ষে ও তাঁর বাসভবনে স্থাপন করা হয়। এটি কাউকে ব্যক্তিগতভাবে দেওয়া হয়নি। তিনি এ এসি খুলে নেওয়ার অধিকার রাখেন না।\"\"\")"
   ]
  },
  {
   "cell_type": "code",
   "execution_count": 2,
   "metadata": {},
   "outputs": [
    {
     "data": {
      "text/plain": [
       "'হবিগঞ্জের বাহুবল থানার সদ্য Bangla বিদায়ী ভারপ্রাপ্ত কর্মকর্তা (ওসি) রাকিবুল ইসলাম খানের বিরুদ্ধে থানা ও বাসভবনে সরকারি অর্থে স্থাপিত দুটি শীতাতপনিয়ন্ত্রণ যন্ত্র (এসি) খুলে নেওয়ার অভিযোগ পাওয়া গেছে।\\nওসির এ কর্মকাণ্ডে ক্ষোভ প্রকাশ করেছেন হবিগঞ্জ-১ (নবীগঞ্জ-বাহুবল) আসনের সংসদ সদস্য গাজী মোহাম্মদ শাহ নওয়াজ। তিনি প্রথম আলোকে বলেন, এসি দুটি সরকারি বরাদ্দ থেকে থানায় ওসির কক্ষে ও তাঁর বাসভবনে স্থাপন করা হয়। এটি কাউকে ব্যক্তিগতভাবে দেওয়া হয়নি। তিনি এ এসি খুলে নেওয়ার অধিকার রাখেন না।'"
      ]
     },
     "execution_count": 2,
     "metadata": {},
     "output_type": "execute_result"
    }
   ],
   "source": [
    "cleaned_text"
   ]
  },
  {
   "cell_type": "code",
   "execution_count": 3,
   "metadata": {},
   "outputs": [
    {
     "data": {
      "text/plain": [
       "'হবিগঞ্জের বাহুবল থানার সদ্য <FOREIGN> <FOREIGN> ভারপ্রাপ্ত কর্মকর্তা (ওসি) রাকিবুল ইসলাম খানের বিরুদ্ধে থানা ও বাসভবনে সরকারি অর্থে স্থাপিত দুটি <FOREIGN> যন্ত্র (এসি) খুলে <FOREIGN> অভিযোগ <FOREIGN> গেছে। ওসির এ কর্মকাণ্ডে ক্ষোভ প্রকাশ করেছেন হবিগঞ্জ-১ (নবীগঞ্জ-বাহুবল) আসনের সংসদ সদস্য গাজী মোহাম্মদ শাহ <FOREIGN> তিনি প্রথম আলোকে বলেন, এসি দুটি সরকারি বরাদ্দ থেকে <FOREIGN> ওসির কক্ষে ও তাঁর বাসভবনে স্থাপন করা <FOREIGN> এটি কাউকে ব্যক্তিগতভাবে <FOREIGN> <FOREIGN> তিনি এ এসি খুলে <FOREIGN> অধিকার রাখেন না।'"
      ]
     },
     "execution_count": 3,
     "metadata": {},
     "output_type": "execute_result"
    }
   ],
   "source": [
    "cleaned_text = cleaner.replace_foreign_words(cleaned_text, keep_special_tokens=False)\n",
    "cleaned_text"
   ]
  },
  {
   "cell_type": "code",
   "execution_count": 6,
   "metadata": {},
   "outputs": [
    {
     "data": {
      "text/plain": [
       "'<FOREIGN>'"
      ]
     },
     "execution_count": 6,
     "metadata": {},
     "output_type": "execute_result"
    }
   ],
   "source": [
    "cleaner.replace_foreign_word(\"শীতাতপনিয়ন্ত্রণ\", keep_special_tokens=False)"
   ]
  },
  {
   "cell_type": "code",
   "execution_count": 5,
   "metadata": {},
   "outputs": [
    {
     "name": "stdout",
     "output_type": "stream",
     "text": [
      "item:  প is valid:  True\n",
      "item:  া is valid:  True\n",
      "item:  ও is valid:  True\n",
      "item:  য is valid:  True\n",
      "item:  ় is valid:  False\n",
      "item:  া is valid:  True\n"
     ]
    }
   ],
   "source": [
    "for item in \"পাওয়া\":\n",
    "    print(\"item: \", item, \"is valid: \", cleaner.bangla_character.is_valid_character(item))"
   ]
  },
  {
   "cell_type": "code",
   "execution_count": 9,
   "metadata": {},
   "outputs": [
    {
     "data": {
      "text/plain": [
       "' ়'"
      ]
     },
     "execution_count": 9,
     "metadata": {},
     "output_type": "execute_result"
    }
   ],
   "source": [
    "\" ়\".encode(\"utf-8\").decode(\"utf-8\")"
   ]
  },
  {
   "cell_type": "code",
   "execution_count": 10,
   "metadata": {},
   "outputs": [
    {
     "data": {
      "text/plain": [
       "' ়'"
      ]
     },
     "execution_count": 10,
     "metadata": {},
     "output_type": "execute_result"
    }
   ],
   "source": [
    "# get unicode of \" ়\"\n",
    "\" ়\".encode(\"utf-8\").decode(\"utf-8\")"
   ]
  },
  {
   "cell_type": "code",
   "execution_count": null,
   "metadata": {},
   "outputs": [],
   "source": []
  }
 ],
 "metadata": {
  "kernelspec": {
   "display_name": "PythonEnv",
   "language": "python",
   "name": "pythonenv"
  },
  "language_info": {
   "codemirror_mode": {
    "name": "ipython",
    "version": 3
   },
   "file_extension": ".py",
   "mimetype": "text/x-python",
   "name": "python",
   "nbconvert_exporter": "python",
   "pygments_lexer": "ipython3",
   "version": "3.10.9"
  },
  "orig_nbformat": 4
 },
 "nbformat": 4,
 "nbformat_minor": 2
}
